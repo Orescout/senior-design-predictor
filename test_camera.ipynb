{
 "cells": [
  {
   "cell_type": "code",
   "execution_count": null,
   "metadata": {},
   "outputs": [],
   "source": [
    "import time\n",
    "import cv2\n",
    "\n",
    "from Camera import Camera\n",
    "camera = Camera()\n",
    "\n",
    "camera.start_preview()\n",
    "time.sleep(20)\n",
    "camera.stop_preview()\n",
    "camera.close()"
   ]
  },
  {
   "cell_type": "code",
   "execution_count": null,
   "metadata": {},
   "outputs": [],
   "source": []
  },
  {
   "cell_type": "code",
   "execution_count": 1,
   "metadata": {},
   "outputs": [],
   "source": [
    "cam = (\"nvarguscamerasrc ! \"\n",
    "                \"video/x-raw(memory:NVMM), \"\n",
    "                \"width=(int)%d, height=(int)%d, \"\n",
    "                \"format=(string)NV12, framerate=(fraction)%d/1 ! \"\n",
    "                \"nvvidconv flip-method=%d ! \"\n",
    "                \"video/x-raw, width=(int)%d, height=(int)%d, format=(string)BGRx ! \"\n",
    "                \"videoconvert ! \"\n",
    "                \"video/x-raw, format=(string)BGR ! appsink\"\n",
    "                % (\n",
    "                    1280,\n",
    "                    720,\n",
    "                    60,\n",
    "                    0,\n",
    "                    640,\n",
    "                    360,\n",
    "                )\n",
    "      )\n",
    "\n",
    "                "
   ]
  },
  {
   "cell_type": "code",
   "execution_count": null,
   "metadata": {},
   "outputs": [],
   "source": [
    "import cv2\n",
    "obj = cv2.VideoCapture(cam, cv2.CAP_GSTREAMER)\n",
    "\n",
    "o = obj.read()\n"
   ]
  },
  {
   "cell_type": "code",
   "execution_count": null,
   "metadata": {},
   "outputs": [],
   "source": []
  }
 ],
 "metadata": {
  "kernelspec": {
   "display_name": "Python 3",
   "language": "python",
   "name": "python3"
  },
  "language_info": {
   "codemirror_mode": {
    "name": "ipython",
    "version": 3
   },
   "file_extension": ".py",
   "mimetype": "text/x-python",
   "name": "python",
   "nbconvert_exporter": "python",
   "pygments_lexer": "ipython3",
   "version": "3.6.9"
  }
 },
 "nbformat": 4,
 "nbformat_minor": 2
}
