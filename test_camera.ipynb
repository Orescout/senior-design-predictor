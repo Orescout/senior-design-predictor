{
 "cells": [
  {
   "cell_type": "code",
   "execution_count": null,
   "metadata": {},
   "outputs": [],
   "source": [
    "import time\n",
    "\n",
    "from Camera import Camera\n",
    "camera = Camera()\n",
    "\n",
    "camera.start_preview()\n",
    "time.sleep(20)\n",
    "camera.stop_preview()\n",
    "camera.close()"
   ]
  }
 ],
 "metadata": {
  "language_info": {
   "name": "python"
  },
  "orig_nbformat": 4
 },
 "nbformat": 4,
 "nbformat_minor": 2
}
