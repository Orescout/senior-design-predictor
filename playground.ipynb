{
 "cells": [
  {
   "cell_type": "code",
   "execution_count": 1,
   "metadata": {},
   "outputs": [
    {
     "name": "stdout",
     "output_type": "stream",
     "text": [
      "Cloning into 'yolov5'...\n",
      "remote: Enumerating objects: 15002, done.\u001b[K\n",
      "remote: Total 15002 (delta 0), reused 0 (delta 0), pack-reused 15002\u001b[K\n",
      "\u001b[KReceiving objects: 100% (15002/15002), 14.08 MiB | 10.68 MiB/s, done.\n",
      "\u001b[KResolving deltas: 100% (10291/10291), done.\n",
      "Requirement already satisfied: gitpython in /opt/homebrew/lib/python3.10/site-packages (from -r requirements.txt (line 5)) (3.1.30)\n",
      "Requirement already satisfied: ipython in /opt/homebrew/lib/python3.10/site-packages (from -r requirements.txt (line 6)) (8.5.0)\n",
      "Requirement already satisfied: matplotlib>=3.2.2 in /opt/homebrew/lib/python3.10/site-packages (from -r requirements.txt (line 7)) (3.6.3)\n",
      "Requirement already satisfied: numpy>=1.18.5 in /opt/homebrew/lib/python3.10/site-packages (from -r requirements.txt (line 8)) (1.23.3)\n",
      "Requirement already satisfied: opencv-python>=4.1.1 in /opt/homebrew/lib/python3.10/site-packages (from -r requirements.txt (line 9)) (4.6.0.66)\n",
      "Requirement already satisfied: Pillow>=7.1.2 in /opt/homebrew/lib/python3.10/site-packages (from -r requirements.txt (line 10)) (9.2.0)\n",
      "Requirement already satisfied: psutil in /opt/homebrew/lib/python3.10/site-packages (from -r requirements.txt (line 11)) (5.9.4)\n",
      "Requirement already satisfied: PyYAML>=5.3.1 in /opt/homebrew/lib/python3.10/site-packages (from -r requirements.txt (line 12)) (6.0)\n",
      "Requirement already satisfied: requests>=2.23.0 in /opt/homebrew/lib/python3.10/site-packages (from -r requirements.txt (line 13)) (2.28.1)\n",
      "Requirement already satisfied: scipy>=1.4.1 in /opt/homebrew/lib/python3.10/site-packages (from -r requirements.txt (line 14)) (1.9.2)\n",
      "Requirement already satisfied: thop>=0.1.1 in /opt/homebrew/lib/python3.10/site-packages (from -r requirements.txt (line 15)) (0.1.1.post2209072238)\n",
      "Requirement already satisfied: torch>=1.7.0 in /opt/homebrew/lib/python3.10/site-packages (from -r requirements.txt (line 16)) (1.12.1)\n",
      "Requirement already satisfied: torchvision>=0.8.1 in /opt/homebrew/lib/python3.10/site-packages (from -r requirements.txt (line 17)) (0.13.1)\n",
      "Requirement already satisfied: tqdm>=4.64.0 in /opt/homebrew/lib/python3.10/site-packages (from -r requirements.txt (line 18)) (4.64.1)\n",
      "Requirement already satisfied: tensorboard>=2.4.1 in /opt/homebrew/lib/python3.10/site-packages (from -r requirements.txt (line 22)) (2.11.1)\n",
      "Requirement already satisfied: pandas>=1.1.4 in /opt/homebrew/lib/python3.10/site-packages (from -r requirements.txt (line 27)) (1.5.0)\n",
      "Requirement already satisfied: seaborn>=0.11.0 in /opt/homebrew/lib/python3.10/site-packages (from -r requirements.txt (line 28)) (0.12.2)\n",
      "Requirement already satisfied: gitdb<5,>=4.0.1 in /opt/homebrew/lib/python3.10/site-packages (from gitpython->-r requirements.txt (line 5)) (4.0.10)\n",
      "Requirement already satisfied: traitlets>=5 in /opt/homebrew/lib/python3.10/site-packages (from ipython->-r requirements.txt (line 6)) (5.4.0)\n",
      "Requirement already satisfied: pickleshare in /opt/homebrew/lib/python3.10/site-packages (from ipython->-r requirements.txt (line 6)) (0.7.5)\n",
      "Requirement already satisfied: pexpect>4.3 in /opt/homebrew/lib/python3.10/site-packages (from ipython->-r requirements.txt (line 6)) (4.8.0)\n",
      "Requirement already satisfied: jedi>=0.16 in /opt/homebrew/lib/python3.10/site-packages (from ipython->-r requirements.txt (line 6)) (0.18.1)\n",
      "Requirement already satisfied: stack-data in /opt/homebrew/lib/python3.10/site-packages (from ipython->-r requirements.txt (line 6)) (0.5.1)\n",
      "Requirement already satisfied: backcall in /opt/homebrew/lib/python3.10/site-packages (from ipython->-r requirements.txt (line 6)) (0.2.0)\n",
      "Requirement already satisfied: decorator in /opt/homebrew/lib/python3.10/site-packages (from ipython->-r requirements.txt (line 6)) (5.1.1)\n",
      "Requirement already satisfied: pygments>=2.4.0 in /opt/homebrew/lib/python3.10/site-packages (from ipython->-r requirements.txt (line 6)) (2.13.0)\n",
      "Requirement already satisfied: matplotlib-inline in /opt/homebrew/lib/python3.10/site-packages (from ipython->-r requirements.txt (line 6)) (0.1.6)\n",
      "Requirement already satisfied: prompt-toolkit<3.1.0,>3.0.1 in /opt/homebrew/lib/python3.10/site-packages (from ipython->-r requirements.txt (line 6)) (3.0.31)\n",
      "Requirement already satisfied: appnope in /opt/homebrew/lib/python3.10/site-packages (from ipython->-r requirements.txt (line 6)) (0.1.3)\n",
      "Requirement already satisfied: kiwisolver>=1.0.1 in /opt/homebrew/lib/python3.10/site-packages (from matplotlib>=3.2.2->-r requirements.txt (line 7)) (1.4.4)\n",
      "Requirement already satisfied: cycler>=0.10 in /opt/homebrew/lib/python3.10/site-packages (from matplotlib>=3.2.2->-r requirements.txt (line 7)) (0.10.0)\n",
      "Requirement already satisfied: python-dateutil>=2.7 in /opt/homebrew/lib/python3.10/site-packages (from matplotlib>=3.2.2->-r requirements.txt (line 7)) (2.8.2)\n",
      "Requirement already satisfied: contourpy>=1.0.1 in /opt/homebrew/lib/python3.10/site-packages (from matplotlib>=3.2.2->-r requirements.txt (line 7)) (1.0.5)\n",
      "Requirement already satisfied: fonttools>=4.22.0 in /opt/homebrew/lib/python3.10/site-packages (from matplotlib>=3.2.2->-r requirements.txt (line 7)) (4.37.4)\n",
      "Requirement already satisfied: packaging>=20.0 in /opt/homebrew/lib/python3.10/site-packages (from matplotlib>=3.2.2->-r requirements.txt (line 7)) (21.3)\n",
      "Requirement already satisfied: pyparsing>=2.2.1 in /opt/homebrew/lib/python3.10/site-packages (from matplotlib>=3.2.2->-r requirements.txt (line 7)) (2.4.7)\n",
      "Requirement already satisfied: charset-normalizer<3,>=2 in /opt/homebrew/lib/python3.10/site-packages (from requests>=2.23.0->-r requirements.txt (line 13)) (2.1.1)\n",
      "Requirement already satisfied: idna<4,>=2.5 in /opt/homebrew/lib/python3.10/site-packages (from requests>=2.23.0->-r requirements.txt (line 13)) (2.10)\n",
      "Requirement already satisfied: urllib3<1.27,>=1.21.1 in /opt/homebrew/lib/python3.10/site-packages (from requests>=2.23.0->-r requirements.txt (line 13)) (1.26.12)\n",
      "Requirement already satisfied: certifi>=2017.4.17 in /opt/homebrew/lib/python3.10/site-packages (from requests>=2.23.0->-r requirements.txt (line 13)) (2022.12.7)\n",
      "Requirement already satisfied: typing-extensions in /opt/homebrew/lib/python3.10/site-packages (from torch>=1.7.0->-r requirements.txt (line 16)) (4.4.0)\n",
      "Requirement already satisfied: tensorboard-plugin-wit>=1.6.0 in /opt/homebrew/lib/python3.10/site-packages (from tensorboard>=2.4.1->-r requirements.txt (line 22)) (1.8.1)\n",
      "Requirement already satisfied: werkzeug>=1.0.1 in /opt/homebrew/lib/python3.10/site-packages (from tensorboard>=2.4.1->-r requirements.txt (line 22)) (2.2.2)\n",
      "Requirement already satisfied: grpcio>=1.24.3 in /opt/homebrew/lib/python3.10/site-packages (from tensorboard>=2.4.1->-r requirements.txt (line 22)) (1.49.1)\n",
      "Requirement already satisfied: setuptools>=41.0.0 in /opt/homebrew/lib/python3.10/site-packages (from tensorboard>=2.4.1->-r requirements.txt (line 22)) (65.6.3)\n",
      "Requirement already satisfied: wheel>=0.26 in /opt/homebrew/lib/python3.10/site-packages (from tensorboard>=2.4.1->-r requirements.txt (line 22)) (0.38.4)\n",
      "Requirement already satisfied: google-auth<3,>=1.6.3 in /opt/homebrew/lib/python3.10/site-packages (from tensorboard>=2.4.1->-r requirements.txt (line 22)) (2.16.0)\n",
      "Requirement already satisfied: markdown>=2.6.8 in /opt/homebrew/lib/python3.10/site-packages (from tensorboard>=2.4.1->-r requirements.txt (line 22)) (3.4.1)\n",
      "Requirement already satisfied: absl-py>=0.4 in /opt/homebrew/lib/python3.10/site-packages (from tensorboard>=2.4.1->-r requirements.txt (line 22)) (1.2.0)\n",
      "Requirement already satisfied: protobuf<4,>=3.9.2 in /opt/homebrew/lib/python3.10/site-packages (from tensorboard>=2.4.1->-r requirements.txt (line 22)) (3.20.3)\n",
      "Requirement already satisfied: tensorboard-data-server<0.7.0,>=0.6.0 in /opt/homebrew/lib/python3.10/site-packages (from tensorboard>=2.4.1->-r requirements.txt (line 22)) (0.6.1)\n",
      "Requirement already satisfied: google-auth-oauthlib<0.5,>=0.4.1 in /opt/homebrew/lib/python3.10/site-packages (from tensorboard>=2.4.1->-r requirements.txt (line 22)) (0.4.6)\n",
      "Requirement already satisfied: pytz>=2020.1 in /opt/homebrew/lib/python3.10/site-packages (from pandas>=1.1.4->-r requirements.txt (line 27)) (2022.4)\n",
      "Requirement already satisfied: six in /opt/homebrew/lib/python3.10/site-packages (from cycler>=0.10->matplotlib>=3.2.2->-r requirements.txt (line 7)) (1.16.0)\n",
      "Requirement already satisfied: smmap<6,>=3.0.1 in /opt/homebrew/lib/python3.10/site-packages (from gitdb<5,>=4.0.1->gitpython->-r requirements.txt (line 5)) (5.0.0)\n",
      "Requirement already satisfied: pyasn1-modules>=0.2.1 in /opt/homebrew/lib/python3.10/site-packages (from google-auth<3,>=1.6.3->tensorboard>=2.4.1->-r requirements.txt (line 22)) (0.2.8)\n",
      "Requirement already satisfied: rsa<5,>=3.1.4 in /opt/homebrew/lib/python3.10/site-packages (from google-auth<3,>=1.6.3->tensorboard>=2.4.1->-r requirements.txt (line 22)) (4.9)\n",
      "Requirement already satisfied: cachetools<6.0,>=2.0.0 in /opt/homebrew/lib/python3.10/site-packages (from google-auth<3,>=1.6.3->tensorboard>=2.4.1->-r requirements.txt (line 22)) (5.2.1)\n",
      "Requirement already satisfied: requests-oauthlib>=0.7.0 in /opt/homebrew/lib/python3.10/site-packages (from google-auth-oauthlib<0.5,>=0.4.1->tensorboard>=2.4.1->-r requirements.txt (line 22)) (1.3.1)\n",
      "Requirement already satisfied: parso<0.9.0,>=0.8.0 in /opt/homebrew/lib/python3.10/site-packages (from jedi>=0.16->ipython->-r requirements.txt (line 6)) (0.8.3)\n",
      "Requirement already satisfied: ptyprocess>=0.5 in /opt/homebrew/lib/python3.10/site-packages (from pexpect>4.3->ipython->-r requirements.txt (line 6)) (0.7.0)\n",
      "Requirement already satisfied: wcwidth in /opt/homebrew/lib/python3.10/site-packages (from prompt-toolkit<3.1.0,>3.0.1->ipython->-r requirements.txt (line 6)) (0.2.5)\n",
      "Requirement already satisfied: MarkupSafe>=2.1.1 in /opt/homebrew/lib/python3.10/site-packages (from werkzeug>=1.0.1->tensorboard>=2.4.1->-r requirements.txt (line 22)) (2.1.1)\n",
      "Requirement already satisfied: asttokens in /opt/homebrew/lib/python3.10/site-packages (from stack-data->ipython->-r requirements.txt (line 6)) (2.0.8)\n",
      "Requirement already satisfied: executing in /opt/homebrew/lib/python3.10/site-packages (from stack-data->ipython->-r requirements.txt (line 6)) (1.1.1)\n",
      "Requirement already satisfied: pure-eval in /opt/homebrew/lib/python3.10/site-packages (from stack-data->ipython->-r requirements.txt (line 6)) (0.2.2)\n",
      "Requirement already satisfied: pyasn1<0.5.0,>=0.4.6 in /opt/homebrew/lib/python3.10/site-packages (from pyasn1-modules>=0.2.1->google-auth<3,>=1.6.3->tensorboard>=2.4.1->-r requirements.txt (line 22)) (0.4.8)\n",
      "Requirement already satisfied: oauthlib>=3.0.0 in /opt/homebrew/lib/python3.10/site-packages (from requests-oauthlib>=0.7.0->google-auth-oauthlib<0.5,>=0.4.1->tensorboard>=2.4.1->-r requirements.txt (line 22)) (3.2.2)\n"
     ]
    }
   ],
   "source": [
    "# One time setting up environment\n",
    "import os\n",
    "import torch\n",
    "\n",
    "# Clone the yoloV5 repo from github\n",
    "!git clone https://github.com/ultralytics/yolov5\n",
    "\n",
    "if \"yolov5\" not in os.getcwd():\n",
    "    # Get the current working directory\n",
    "    current_dir = os.getcwd()\n",
    "\n",
    "    # Navigate to the \"yolov5\" folder in the current directory\n",
    "    os.chdir(os.path.join(current_dir, \"yolov5\"))\n",
    "\n",
    "# Install all dependencies\n",
    "!pip3 install -r requirements.txt"
   ]
  },
  {
   "cell_type": "code",
   "execution_count": 3,
   "metadata": {},
   "outputs": [
    {
     "name": "stderr",
     "output_type": "stream",
     "text": [
      "Using cache found in /Users/User1/.cache/torch/hub/ultralytics_yolov5_master\n",
      "YOLOv5 🚀 2023-1-27 Python-3.10.9 torch-1.12.1 CPU\n",
      "\n",
      "Fusing layers... \n",
      "Model summary: 267 layers, 46108278 parameters, 0 gradients, 107.6 GFLOPs\n",
      "Adding AutoShape... \n"
     ]
    }
   ],
   "source": [
    "# TODO: Paste the model inside the yolov5 folder.\n",
    "\n",
    "# model = torch.hub.load(\"ultralytics/yolov5\", \"custom\", \"model_- 14 january 2023 23_01.pt\")\n",
    "\n",
    "# model.eval()\n",
    "# torch.save(model, 'model_stored.pt')\n"
   ]
  },
  {
   "cell_type": "code",
   "execution_count": 3,
   "metadata": {},
   "outputs": [],
   "source": [
    "import os\n",
    "import torch"
   ]
  },
  {
   "cell_type": "code",
   "execution_count": 4,
   "metadata": {},
   "outputs": [
    {
     "ename": "AttributeError",
     "evalue": "module 'torch' has no attribute 'load'",
     "output_type": "error",
     "traceback": [
      "\u001b[0;31m---------------------------------------------------------------------------\u001b[0m",
      "\u001b[0;31mAttributeError\u001b[0m                            Traceback (most recent call last)",
      "Cell \u001b[0;32mIn[4], line 9\u001b[0m\n\u001b[1;32m      6\u001b[0m     os\u001b[39m.\u001b[39mchdir(os\u001b[39m.\u001b[39mpath\u001b[39m.\u001b[39mjoin(current_dir, \u001b[39m\"\u001b[39m\u001b[39myolov5\u001b[39m\u001b[39m\"\u001b[39m))\n\u001b[1;32m      8\u001b[0m \u001b[39m# Load model\u001b[39;00m\n\u001b[0;32m----> 9\u001b[0m new_model \u001b[39m=\u001b[39m torch\u001b[39m.\u001b[39;49mload(\u001b[39m\"\u001b[39m\u001b[39mmodel_stored.pt\u001b[39m\u001b[39m\"\u001b[39m)\n\u001b[1;32m     11\u001b[0m \u001b[39m# TODO: Add image in the folder\u001b[39;00m\n\u001b[1;32m     12\u001b[0m \n\u001b[1;32m     13\u001b[0m \u001b[39m# Perform object detection\u001b[39;00m\n\u001b[1;32m     14\u001b[0m results \u001b[39m=\u001b[39m new_model(\u001b[39m\"\u001b[39m\u001b[39mimage.png\u001b[39m\u001b[39m\"\u001b[39m)\n",
      "\u001b[0;31mAttributeError\u001b[0m: module 'torch' has no attribute 'load'"
     ]
    }
   ],
   "source": [
    "if \"yolov5\" not in os.getcwd():\n",
    "    # Get the current working directory\n",
    "    current_dir = os.getcwd()\n",
    "\n",
    "    # Navigate to the \"yolov5\" folder in the current directory\n",
    "    os.chdir(os.path.join(current_dir, \"yolov5\"))\n",
    "\n",
    "# Load model\n",
    "new_model = torch.load(\"model_stored.pt\")\n",
    "\n",
    "# TODO: Add image in the folder\n",
    "\n",
    "# Perform object detection\n",
    "results = new_model(\"image.png\")\n",
    "results.save()"
   ]
  },
  {
   "cell_type": "code",
   "execution_count": 1,
   "metadata": {},
   "outputs": [
    {
     "ename": "NameError",
     "evalue": "name 'results' is not defined",
     "output_type": "error",
     "traceback": [
      "\u001b[0;31m---------------------------------------------------------------------------\u001b[0m",
      "\u001b[0;31mNameError\u001b[0m                                 Traceback (most recent call last)",
      "Cell \u001b[0;32mIn[1], line 3\u001b[0m\n\u001b[1;32m      1\u001b[0m \u001b[39m# Get bounding boxes\u001b[39;00m\n\u001b[1;32m      2\u001b[0m \u001b[39m# print(results.pandas().xyxy[0])\u001b[39;00m\n\u001b[0;32m----> 3\u001b[0m boxes \u001b[39m=\u001b[39m results\u001b[39m.\u001b[39mxyxy[\u001b[39m0\u001b[39m]\u001b[39m.\u001b[39mnumpy()\n\u001b[1;32m      5\u001b[0m \u001b[39mimport\u001b[39;00m \u001b[39mmatplotlib\u001b[39;00m\u001b[39m.\u001b[39;00m\u001b[39mpyplot\u001b[39;00m \u001b[39mas\u001b[39;00m \u001b[39mplt\u001b[39;00m\n\u001b[1;32m      6\u001b[0m \u001b[39mimport\u001b[39;00m \u001b[39mnumpy\u001b[39;00m \u001b[39mas\u001b[39;00m \u001b[39mnp\u001b[39;00m\n",
      "\u001b[0;31mNameError\u001b[0m: name 'results' is not defined"
     ]
    }
   ],
   "source": [
    "# Get bounding boxes\n",
    "# print(results.pandas().xyxy[0])\n",
    "boxes = results.xyxy[0].numpy()\n",
    "\n",
    "import matplotlib.pyplot as plt\n",
    "import numpy as np\n",
    "import cv2\n",
    "from sklearn.linear_model import RANSACRegressor\n",
    "\n",
    "\n",
    "\n",
    "def draw_line(image, boxes):\n",
    "    \"\"\"\n",
    "    Draws a straight line that approximately goes through most center points of the bounding boxes in an image using the least squares method.\n",
    "    Args:\n",
    "        image: a numpy ndarray representing the image\n",
    "        boxes: a list of bounding boxes in YOLO format [(x1, y1, x2, y2), ...]\n",
    "    Returns:\n",
    "        image: the image with the line drawn on it\n",
    "    \"\"\"\n",
    "    # convert boxes to center coordinates\n",
    "    centers = [(int((x1 + x2) / 2), int((y1 + y2) / 2)) for x1, y1, x2, y2, conf, cl in boxes]\n",
    "    centers = np.array(centers)\n",
    "    x = centers[:, 0]\n",
    "    y = centers[:, 1]\n",
    "    \n",
    "    ransac = RANSACRegressor(min_samples=2)\n",
    "    ransac.fit(x.reshape(-1, 1), y)\n",
    "    inlier_mask = ransac.inlier_mask_\n",
    "    outlier_mask = np.logical_not(inlier_mask)\n",
    "    line_X = np.arange(x.min(), x.max())[:, np.newaxis]\n",
    "    line_y_ransac = ransac.predict(line_X)\n",
    "    cv2.line(image, (line_X[0], line_y_ransac[0]), (line_X[-1], line_y_ransac[-1]), (0, 255, 0), 2)\n",
    "    return image\n",
    "\n",
    "\n",
    "image_with_line = draw_line(cv2.imread(\"image.png\"), boxes)\n",
    "cv2.imshow('image', image_with_line)\n",
    "cv2.waitKey(1000)\n",
    "\n",
    "\n"
   ]
  },
  {
   "cell_type": "code",
   "execution_count": 27,
   "metadata": {},
   "outputs": [
    {
     "data": {
      "text/plain": [
       "<matplotlib.image.AxesImage at 0x292e09750>"
      ]
     },
     "execution_count": 27,
     "metadata": {},
     "output_type": "execute_result"
    }
   ],
   "source": [
    "img = cv2.imread('image.png')\n",
    "cv2.imshow('image', img)\n",
    "cv2.waitKey(1000)\n"
   ]
  },
  {
   "cell_type": "code",
   "execution_count": null,
   "metadata": {},
   "outputs": [],
   "source": []
  }
 ],
 "metadata": {
  "kernelspec": {
   "display_name": "Python 3",
   "language": "python",
   "name": "python3"
  },
  "language_info": {
   "codemirror_mode": {
    "name": "ipython",
    "version": 3
   },
   "file_extension": ".py",
   "mimetype": "text/x-python",
   "name": "python",
   "nbconvert_exporter": "python",
   "pygments_lexer": "ipython3",
   "version": "3.11.1 (main, Dec 23 2022, 09:28:24) [Clang 14.0.0 (clang-1400.0.29.202)]"
  },
  "orig_nbformat": 4,
  "vscode": {
   "interpreter": {
    "hash": "5c7b89af1651d0b8571dde13640ecdccf7d5a6204171d6ab33e7c296e100e08a"
   }
  }
 },
 "nbformat": 4,
 "nbformat_minor": 2
}
