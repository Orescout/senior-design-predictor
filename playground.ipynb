{
 "cells": [
  {
   "cell_type": "code",
   "execution_count": 1,
   "metadata": {},
   "outputs": [
    {
     "name": "stdout",
     "output_type": "stream",
     "text": [
      "Cloning into 'yolov5'...\n",
      "remote: Enumerating objects: 15002, done.\u001b[K\n",
      "remote: Total 15002 (delta 0), reused 0 (delta 0), pack-reused 15002\u001b[K\n",
      "\u001b[KReceiving objects: 100% (15002/15002), 14.02 MiB | 20.95 MiB/s, done.\n",
      "\u001b[KResolving deltas: 100% (10291/10291), done.\n",
      "Traceback (most recent call last):\n",
      "  File \"/Library/Frameworks/Python.framework/Versions/3.7/bin/pip3\", line 5, in <module>\n",
      "    from pip._internal.cli.main import main\n",
      "  File \"/Users/User1/Library/Python/3.7/lib/python/site-packages/pip/_internal/cli/main.py\", line 9, in <module>\n",
      "    from pip._internal.cli.autocompletion import autocomplete\n",
      "  File \"/Users/User1/Library/Python/3.7/lib/python/site-packages/pip/_internal/cli/autocompletion.py\", line 12, in <module>\n",
      "    from pip._internal.metadata import get_default_environment\n",
      "  File \"/Users/User1/Library/Python/3.7/lib/python/site-packages/pip/_internal/metadata/__init__.py\", line 9, in <module>\n",
      "    from .base import (BaseDistribution, BaseEnvironment, FilesystemWheel,\n",
      "  File \"/Users/User1/Library/Python/3.7/lib/python/site-packages/pip/_internal/metadata/base.py\", line 22, in <module>\n",
      "    from pip._internal.utils.packaging import safe_extra\n",
      "  File \"/Users/User1/Library/Python/3.7/lib/python/site-packages/pip/_internal/utils/packaging.py\", line 7, in <module>\n",
      "    from pip._vendor.packaging.requirements import Requirement\n",
      "  File \"/Users/User1/Library/Python/3.7/lib/python/site-packages/pip/_vendor/packaging/requirements.py\", line 12, in <module>\n",
      "    from pip._vendor.pyparsing import Combine\n",
      "  File \"/Users/User1/Library/Python/3.7/lib/python/site-packages/pip/_vendor/pyparsing/__init__.py\", line 138, in <module>\n",
      "    from .common import _builtin_exprs as common_builtin_exprs\n",
      "  File \"/Users/User1/Library/Python/3.7/lib/python/site-packages/pip/_vendor/pyparsing/common.py\", line 5, in <module>\n",
      "    from .helpers import any_close_tag, any_open_tag, delimited_list\n",
      "  File \"/Users/User1/Library/Python/3.7/lib/python/site-packages/pip/_vendor/pyparsing/helpers.py\", line 6, in <module>\n",
      "    from . import __diag__\n",
      "ImportError: cannot import name '__diag__' from 'pip._vendor.pyparsing' (/Users/User1/Library/Python/3.7/lib/python/site-packages/pip/_vendor/pyparsing/__init__.py)\n"
     ]
    }
   ],
   "source": [
    "# One time setting up environment\n",
    "import os\n",
    "import torch\n",
    "\n",
    "# Clone the yoloV5 repo from github\n",
    "!git clone https://github.com/ultralytics/yolov5\n",
    "\n",
    "if \"yolov5\" not in os.getcwd():\n",
    "    # Get the current working directory\n",
    "    current_dir = os.getcwd()\n",
    "\n",
    "    # Navigate to the \"yolov5\" folder in the current directory\n",
    "    os.chdir(os.path.join(current_dir, \"yolov5\"))\n",
    "\n",
    "# Install all dependencies\n",
    "!pip3 install -r requirements.txt"
   ]
  },
  {
   "cell_type": "code",
   "execution_count": 3,
   "metadata": {},
   "outputs": [
    {
     "name": "stderr",
     "output_type": "stream",
     "text": [
      "Using cache found in /Users/User1/.cache/torch/hub/ultralytics_yolov5_master\n",
      "YOLOv5 🚀 2023-1-27 Python-3.10.9 torch-1.12.1 CPU\n",
      "\n",
      "Fusing layers... \n",
      "Model summary: 267 layers, 46108278 parameters, 0 gradients, 107.6 GFLOPs\n",
      "Adding AutoShape... \n"
     ]
    }
   ],
   "source": [
    "# TODO: Paste the model inside the yolov5 folder.\n",
    "\n",
    "# model = torch.hub.load(\"ultralytics/yolov5\", \"custom\", \"model_- 14 january 2023 23_01.pt\")\n",
    "\n",
    "# model.eval()\n",
    "# torch.save(model, 'model_stored.pt')\n"
   ]
  },
  {
   "cell_type": "code",
   "execution_count": 4,
   "metadata": {},
   "outputs": [
    {
     "name": "stdout",
     "output_type": "stream",
     "text": [
      "Traceback (most recent call last):\n",
      "  File \"/Library/Frameworks/Python.framework/Versions/3.7/lib/python3.7/runpy.py\", line 193, in _run_module_as_main\n",
      "    \"__main__\", mod_spec)\n",
      "  File \"/Library/Frameworks/Python.framework/Versions/3.7/lib/python3.7/runpy.py\", line 85, in _run_code\n",
      "    exec(code, run_globals)\n",
      "  File \"/Users/User1/Library/Python/3.7/lib/python/site-packages/pip/__main__.py\", line 29, in <module>\n",
      "    from pip._internal.cli.main import main as _main\n",
      "  File \"/Users/User1/Library/Python/3.7/lib/python/site-packages/pip/_internal/cli/main.py\", line 9, in <module>\n",
      "    from pip._internal.cli.autocompletion import autocomplete\n",
      "  File \"/Users/User1/Library/Python/3.7/lib/python/site-packages/pip/_internal/cli/autocompletion.py\", line 12, in <module>\n",
      "    from pip._internal.metadata import get_default_environment\n",
      "  File \"/Users/User1/Library/Python/3.7/lib/python/site-packages/pip/_internal/metadata/__init__.py\", line 9, in <module>\n",
      "    from .base import (BaseDistribution, BaseEnvironment, FilesystemWheel,\n",
      "  File \"/Users/User1/Library/Python/3.7/lib/python/site-packages/pip/_internal/metadata/base.py\", line 22, in <module>\n",
      "    from pip._internal.utils.packaging import safe_extra\n",
      "  File \"/Users/User1/Library/Python/3.7/lib/python/site-packages/pip/_internal/utils/packaging.py\", line 7, in <module>\n",
      "    from pip._vendor.packaging.requirements import Requirement\n",
      "  File \"/Users/User1/Library/Python/3.7/lib/python/site-packages/pip/_vendor/packaging/requirements.py\", line 12, in <module>\n",
      "    from pip._vendor.pyparsing import Combine\n",
      "  File \"/Users/User1/Library/Python/3.7/lib/python/site-packages/pip/_vendor/pyparsing/__init__.py\", line 138, in <module>\n",
      "    from .common import _builtin_exprs as common_builtin_exprs\n",
      "  File \"/Users/User1/Library/Python/3.7/lib/python/site-packages/pip/_vendor/pyparsing/common.py\", line 5, in <module>\n",
      "    from .helpers import any_close_tag, any_open_tag, delimited_list\n",
      "  File \"/Users/User1/Library/Python/3.7/lib/python/site-packages/pip/_vendor/pyparsing/helpers.py\", line 6, in <module>\n",
      "    from . import __diag__\n",
      "ImportError: cannot import name '__diag__' from 'pip._vendor.pyparsing' (/Users/User1/Library/Python/3.7/lib/python/site-packages/pip/_vendor/pyparsing/__init__.py)\n"
     ]
    }
   ],
   "source": [
    "import os\n",
    "import torch\n",
    "# !/opt/homebrew/bin/python3.11 -m pip install -r requirements.txt\n",
    "!/usr/local/bin/python3 -m pip install -r requirements.txt\n",
    "\n",
    "# !/usr/local/bin/python3 -m pip install torch===1.3.1 torchvision===0.4.2 -f https://download.pytorch.org/whl/torch_stable.html"
   ]
  },
  {
   "cell_type": "code",
   "execution_count": 27,
   "metadata": {},
   "outputs": [],
   "source": [
    "import numpy as np\n",
    "import cv2\n",
    "\n",
    "def detect_objects(image, model=\"yoloV5_model_medium.pt\", window_size=(416,416), window_step=(416,416)):\n",
    "    \"\"\"\n",
    "    Args:\n",
    "    - image: a NumPy array representing the input image.\n",
    "    - model: a stored model to load.\n",
    "    - window_size: a tuple of two integers representing the size of the sliding window.\n",
    "    - window_step: a tuple of two integers representing the step of the sliding window.\n",
    "\n",
    "    Returns:\n",
    "    - A NumPy array of bounding boxes in YOLOv5 format.\n",
    "    \"\"\"\n",
    "    # Initialize a list to store the bounding boxes.\n",
    "    bounding_boxes = np.empty((0, 6))\n",
    "\n",
    "    # Extract the shape of the input image.\n",
    "    height, width, _ = image.shape\n",
    "    print('Image shape: ', image.shape)\n",
    "\n",
    "    # Slide a window across the image and detect bounding boxes for each window.\n",
    "    for y in range(0, height - window_size[1], window_step[1]):\n",
    "        for x in range(0, width - window_size[0], window_step[0]):\n",
    "            # Extract the window.\n",
    "            window = image[y:y + window_size[1], x:x + window_size[0], :]\n",
    "\n",
    "            # Load model\n",
    "            object_detection_model = torch.load(model)\n",
    "            \n",
    "            # Detect the bounding boxes for the window.\n",
    "            detection_results = object_detection_model(window)\n",
    "            boxes = detection_results.xyxy[0].numpy()\n",
    "            \n",
    "            if boxes.shape[0] > 0: # If >0 bounding boxes found\n",
    "                # Adjust the coordinates of the bounding boxes to the original image.\n",
    "                boxes[:, [0, 2]] += x\n",
    "                boxes[:, [1, 3]] += y\n",
    "                \n",
    "                # Append the bounding boxes to the list.\n",
    "                bounding_boxes = np.vstack([bounding_boxes, boxes])\n",
    "    \n",
    "    # Merge the bounding boxes and remove duplicates.\n",
    "    # merged_boxes = np.concatenate(bounding_boxes, axis=0)\n",
    "    indices = cv2.dnn.NMSBoxes(bounding_boxes[:, :4], bounding_boxes[:, 4], 0.2, 0.9)\n",
    "    merged_boxes = bounding_boxes[indices.flatten()]\n",
    "\n",
    "    # Return the merged bounding boxes.\n",
    "    return merged_boxes\n"
   ]
  },
  {
   "cell_type": "code",
   "execution_count": 28,
   "metadata": {},
   "outputs": [
    {
     "name": "stdout",
     "output_type": "stream",
     "text": [
      "Image shape:  (618, 480, 3)\n"
     ]
    },
    {
     "data": {
      "text/plain": [
       "array([[     353.55,      273.09,      399.76,       358.5,     0.81113,           0],\n",
       "       [      242.6,      464.24,      306.19,      509.58,     0.76688,           0],\n",
       "       [     322.53,      332.25,      390.58,       413.9,     0.70214,           0],\n",
       "       [     337.67,      318.08,      398.35,      381.94,     0.69142,           0],\n",
       "       [     201.22,      538.78,      251.54,      584.82,     0.68413,           0],\n",
       "       [     218.96,      505.09,      264.74,      559.13,     0.68042,           0],\n",
       "       [     273.06,      427.35,      323.44,      473.88,     0.66785,           0],\n",
       "       [     184.05,      570.11,       234.7,         600,     0.65214,           0],\n",
       "       [     294.01,      383.17,      348.06,      459.81,     0.65076,           0],\n",
       "       [     239.79,      484.91,      278.74,      533.71,     0.61096,           0],\n",
       "       [     264.67,      450.42,      310.94,      497.75,      0.5099,           0],\n",
       "       [     372.84,      240.08,      399.74,      328.39,     0.45857,           0],\n",
       "       [     309.68,      370.57,       363.8,      427.38,     0.44568,           0],\n",
       "       [     305.29,      364.99,      384.12,      399.46,     0.35178,           0],\n",
       "       [     383.63,      206.55,         400,      283.36,     0.29238,           0]])"
      ]
     },
     "execution_count": 28,
     "metadata": {},
     "output_type": "execute_result"
    }
   ],
   "source": [
    "import os\n",
    "import torch\n",
    "import cv2\n",
    "if \"yolov5\" not in os.getcwd():\n",
    "    # Get the current working directory\n",
    "    current_dir = os.getcwd()\n",
    "\n",
    "    # Navigate to the \"yolov5\" folder in the current directory\n",
    "    os.chdir(os.path.join(current_dir, \"yolov5\"))\n",
    "\n",
    "# Load image\n",
    "image = cv2.imread(\"image.png\")\n",
    "image.shape\n",
    "\n",
    "# Perform object detection\n",
    "bounding_boxes = detect_objects(image, window_size=(400, 400), window_step=(100, 100))\n",
    "bounding_boxes\n",
    "\n",
    "# object_detection_model = torch.load('yoloV5_model_medium.pt')\n",
    "# detection_results = object_detection_model(image)\n",
    "# boxes = detection_results.xyxy[0].numpy()\n",
    "# boxes\n",
    "\n",
    "# results = object_detection_medium(\"img3.png\")\n",
    "# results.save()"
   ]
  },
  {
   "cell_type": "code",
   "execution_count": 29,
   "metadata": {},
   "outputs": [
    {
     "name": "stdout",
     "output_type": "stream",
     "text": [
      "[     353.55      273.09      399.76       358.5     0.81113           0]\n",
      "[      242.6      464.24      306.19      509.58     0.76688           0]\n",
      "[     322.53      332.25      390.58       413.9     0.70214           0]\n",
      "[     337.67      318.08      398.35      381.94     0.69142           0]\n",
      "[     201.22      538.78      251.54      584.82     0.68413           0]\n",
      "[     218.96      505.09      264.74      559.13     0.68042           0]\n",
      "[     273.06      427.35      323.44      473.88     0.66785           0]\n",
      "[     184.05      570.11       234.7         600     0.65214           0]\n",
      "[     294.01      383.17      348.06      459.81     0.65076           0]\n",
      "[     239.79      484.91      278.74      533.71     0.61096           0]\n",
      "[     264.67      450.42      310.94      497.75      0.5099           0]\n",
      "[     372.84      240.08      399.74      328.39     0.45857           0]\n",
      "[     309.68      370.57       363.8      427.38     0.44568           0]\n",
      "[     305.29      364.99      384.12      399.46     0.35178           0]\n",
      "[     383.63      206.55         400      283.36     0.29238           0]\n"
     ]
    },
    {
     "data": {
      "text/plain": [
       "True"
      ]
     },
     "execution_count": 29,
     "metadata": {},
     "output_type": "execute_result"
    }
   ],
   "source": [
    "import cv2\n",
    "import numpy as np\n",
    "\n",
    "def draw_bounding_boxes(image, boxes, output_path=None, colors=None, thickness=1, font_scale=0.2, font_thickness=1):\n",
    "    \"\"\"\n",
    "    Draws bounding boxes on an image using the provided list of bounding boxes.\n",
    "\n",
    "    Args:\n",
    "    - image: a NumPy array representing the input image.\n",
    "    - boxes: a NumPy array of bounding boxes in the format (xmin, ymin, xmax, ymax, confidence, class).\n",
    "    - output_path: a string representing the path to the output image file. If not provided, the output image is not saved.\n",
    "    - colors: a list of colors to use for each class label. If not provided, random colors will be used.\n",
    "    - thickness: the thickness of the bounding box lines in pixels.\n",
    "    - font_scale: the font scale to use for the class labels.\n",
    "    - font_thickness: the thickness of the font lines in pixels.\n",
    "    \n",
    "    Returns:\n",
    "    - A copy of the input image with the bounding boxes drawn on it.\n",
    "    \"\"\"\n",
    "    # Convert the image to BGR format if it is in RGB format.\n",
    "    if len(image.shape) == 3 and image.shape[2] == 3:\n",
    "        image = cv2.cvtColor(image, cv2.COLOR_RGB2BGR)\n",
    "\n",
    "    # If colors are not provided, use random colors for each class label.\n",
    "    if colors is None:\n",
    "        classes = np.unique(boxes[:, 5]).astype(int)\n",
    "        np.random.seed(42)\n",
    "        colors = np.random.randint(0, 255, size=(len(classes), 3), dtype=np.uint8)\n",
    "\n",
    "    # Draw the bounding boxes and class labels on a copy of the input image.\n",
    "    output_image = image.copy()\n",
    "    for box in boxes:\n",
    "        xmin, ymin, xmax, ymax, confidence, label = box.astype(int)\n",
    "\n",
    "        # Draw the bounding box.\n",
    "        color = tuple(map(int, colors[label % len(colors)]))\n",
    "        cv2.rectangle(output_image, (xmin, ymin), (xmax, ymax), color, thickness)\n",
    "        print(box)\n",
    "\n",
    "        # Draw the class label.\n",
    "        label_text = f\"{label}: {confidence:.2f}\"\n",
    "        label_size, _ = cv2.getTextSize(label_text, cv2.FONT_HERSHEY_SIMPLEX, font_scale, font_thickness)\n",
    "        cv2.rectangle(output_image, (xmin, ymin - label_size[1]), (xmin + label_size[0], ymin), color, cv2.FILLED)\n",
    "        cv2.putText(output_image, label_text, (xmin, ymin), cv2.FONT_HERSHEY_SIMPLEX, font_scale, (255, 255, 255), font_thickness)\n",
    "\n",
    "    # If an output path is provided, save the output image to file.\n",
    "    if output_path is not None:\n",
    "        cv2.imwrite(output_path, output_image)\n",
    "\n",
    "    return output_image\n",
    "\n",
    "\n",
    "image_with_boxes = draw_bounding_boxes(image, bounding_boxes)\n",
    "cv2.imwrite(\"NEWimage.png\", image_with_boxes)"
   ]
  },
  {
   "cell_type": "code",
   "execution_count": 38,
   "metadata": {},
   "outputs": [],
   "source": [
    "# Unpickle and use\n",
    "import pickle\n",
    "\n",
    "with open(\"results.pickle\", \"rb\") as file:\n",
    "    results = pickle.load(file)\n"
   ]
  },
  {
   "attachments": {},
   "cell_type": "markdown",
   "metadata": {},
   "source": [
    "## A. Estimating Direction"
   ]
  },
  {
   "cell_type": "code",
   "execution_count": 88,
   "metadata": {},
   "outputs": [
    {
     "name": "stdout",
     "output_type": "stream",
     "text": [
      "[[     473.51      725.01      855.34      1093.8     0.83483           0]\n",
      " [     543.33      482.07      800.03      928.42      0.6472           0]\n",
      " [     594.22       462.5      809.54       690.6     0.79754           0]\n",
      " [     610.45      331.86      802.37      499.47     0.74557           0]\n",
      " [     679.27      236.96      788.42      339.18     0.50457           0]\n",
      " [     645.11      243.92      787.85      403.37     0.48673           0]\n",
      " [     674.45      161.95      790.76      273.69     0.47115           0]]\n",
      "[     204.12      132.44      161.08      129.84       38.91       107.2]\n"
     ]
    }
   ],
   "source": [
    "\n",
    "import matplotlib.pyplot as plt\n",
    "import numpy as np\n",
    "import cv2\n",
    "from sklearn.linear_model import RANSACRegressor\n",
    "\n",
    "# Get bounding boxes\n",
    "boxes = results.xyxy[0].numpy()\n",
    "\n",
    "# Reorder the boxes, so that they are in order appearing on the line\n",
    "def reorder_boxes(boxes):\n",
    "    # convert boxes to center coordinates\n",
    "    centers = [(int((x1 + x2) / 2), int((y1 + y2) / 2)) for x1, y1, x2, y2, conf, cl in boxes]\n",
    "    centers = np.array(centers)\n",
    "    x = centers[:, 0]\n",
    "    y = centers[:, 1]\n",
    "    \n",
    "    A = np.stack([x, np.ones(len(x))], axis=1)\n",
    "    w = np.linalg.lstsq(A, y, rcond=None)[0]\n",
    "    line = np.array([-w[0] / w[1], 0])\n",
    "    dists = np.linalg.norm(centers - line, axis=1)\n",
    "    projection_vectors = (centers - line) / dists[:, np.newaxis]\n",
    "    projection_points = line + dists[:, np.newaxis] * projection_vectors\n",
    "\n",
    "    # Sort the boxes by the distances from the line\n",
    "    indices = np.argsort(dists)[::-1]\n",
    "    sorted_boxes = boxes[indices]\n",
    "    \n",
    "    # Calculate the distances between the projection points on the line\n",
    "    sorted_projection_points = projection_points[indices]\n",
    "    distances = np.linalg.norm(np.diff(sorted_projection_points, axis=0), axis=1)\n",
    "    \n",
    "    return sorted_boxes, distances\n",
    "\n",
    "# Reorder boxes and get distance\n",
    "boxes, box_distances = reorder_boxes(boxes)\n",
    "print(boxes)\n",
    "\n",
    "print(box_distances)"
   ]
  },
  {
   "cell_type": "code",
   "execution_count": null,
   "metadata": {},
   "outputs": [],
   "source": []
  },
  {
   "cell_type": "code",
   "execution_count": 89,
   "metadata": {},
   "outputs": [
    {
     "name": "stdout",
     "output_type": "stream",
     "text": [
      "96.40244718629195\n"
     ]
    },
    {
     "data": {
      "text/plain": [
       "-1"
      ]
     },
     "execution_count": 89,
     "metadata": {},
     "output_type": "execute_result"
    }
   ],
   "source": [
    "\n",
    "def find_angle(x1, y1, x2, y2):\n",
    "    rise = y2 - y1\n",
    "    run = x2 - x1\n",
    "    angle = np.arctan(rise / run)\n",
    "    angle = np.rad2deg(angle)\n",
    "    return angle\n",
    "\n",
    "def draw_line(image, boxes):\n",
    "    \"\"\"\n",
    "    Draws a straight line that approximately goes through most center points of the bounding boxes in an image.\n",
    "    Args:\n",
    "        image: a numpy ndarray representing the image\n",
    "        boxes: a list of bounding boxes in YOLO format [(x1, y1, x2, y2), ...]\n",
    "    Returns:\n",
    "        image: the image with the line drawn on it\n",
    "    \"\"\"\n",
    "    # convert boxes to center coordinates\n",
    "    centers = [(int((x1 + x2) / 2), int((y1 + y2) / 2)) for x1, y1, x2, y2, conf, cl in boxes]\n",
    "    centers = np.array(centers)\n",
    "    x = centers[:, 0]\n",
    "    y = centers[:, 1]\n",
    "    \n",
    "    # Regression with RANSAC\n",
    "    ransac = RANSACRegressor(min_samples=2)\n",
    "    ransac.fit(x.reshape(-1, 1), y)\n",
    "    inlier_mask = ransac.inlier_mask_\n",
    "    outlier_mask = np.logical_not(inlier_mask)\n",
    "    line_X = np.arange(x.min(), x.max())[:, np.newaxis]\n",
    "    line_y_ransac = ransac.predict(line_X)\n",
    "    \n",
    "    # Construct line\n",
    "    line_point_1 = (int(line_X[0]), int(line_y_ransac[0]))\n",
    "    line_point_2 = (int(line_X[-1]), int(line_y_ransac[-1]))\n",
    "    cv2.line(image, line_point_1, line_point_2, (0, 255, 0), 2)\n",
    "    \n",
    "    angle  = find_angle(line_point_1[0], line_point_1[1], line_point_2[0], line_point_2[1]) # Get angle from [-90, 90]\n",
    "    angle = angle if angle >= 0 else angle + 180 # make from [0, 360]\n",
    "    \n",
    "    return image, angle, line_point_1, line_point_2\n",
    "\n",
    "image_with_line, angle_to_horizontal, line_point_1, line_point_2 = draw_line(cv2.imread(\"image.png\"), boxes)\n",
    "\n",
    "print(angle_to_horizontal)\n",
    "\n",
    "cv2.imshow('image', image_with_line)\n",
    "cv2.waitKey(1000)\n",
    "\n",
    "\n"
   ]
  },
  {
   "attachments": {},
   "cell_type": "markdown",
   "metadata": {},
   "source": [
    "## B. Estimating Tension"
   ]
  },
  {
   "cell_type": "code",
   "execution_count": 101,
   "metadata": {},
   "outputs": [
    {
     "name": "stdout",
     "output_type": "stream",
     "text": [
      "Length of visible portion of chain [m]:  1.75\n",
      "Degrees from ship:  55.15009542095352\n"
     ]
    }
   ],
   "source": [
    "# Count number of boxes\n",
    "number_of_boxes = boxes.shape[0]\n",
    "\n",
    "# Set constants\n",
    "ANCHORSOURCE_TO_SEALEVEL = 1 # How far is the source of the anchor from sealevel [meters]\n",
    "CHAINLINK_LENGTH = 0.25 # How long is one chain link [meters]\n",
    "\n",
    "visible_chain_length = CHAINLINK_LENGTH * number_of_boxes\n",
    "print('Length of visible portion of chain [m]: ', visible_chain_length)\n",
    "degrees_from_ship = np.arccos(ANCHORSOURCE_TO_SEALEVEL / visible_chain_length) * (180 / np.pi)\n",
    "print('Degrees from ship: ', degrees_from_ship)"
   ]
  },
  {
   "cell_type": "code",
   "execution_count": 93,
   "metadata": {},
   "outputs": [
    {
     "name": "stdout",
     "output_type": "stream",
     "text": [
      "[140806.9, 114575.61, 49115.387, 32168.12, 11157.898, 22760.07, 12997.868]\n"
     ]
    }
   ],
   "source": [
    "# Slope of chain (rate that boxes become smaller and smaller)\n",
    "def calculate_area(box):\n",
    "    x1, y1, x2, y2 = box[0], box[1], box[2], box[3]\n",
    "    width = x2 - x1\n",
    "    height = y2 - y1\n",
    "    area = width * height\n",
    "    return area\n",
    "\n",
    "areas = [calculate_area(box) for box in boxes]\n",
    "print(areas)"
   ]
  },
  {
   "cell_type": "code",
   "execution_count": 94,
   "metadata": {},
   "outputs": [
    {
     "data": {
      "image/png": "[encoded data removed]",
      "text/plain": [
       "<Figure size 640x480 with 2 Axes>"
      ]
     },
     "metadata": {},
     "output_type": "display_data"
    }
   ],
   "source": [
    "%matplotlib inline\n",
    "import matplotlib.pyplot as plt\n",
    "import numpy as np\n",
    "from sklearn.linear_model import LinearRegression\n",
    "from sklearn.pipeline import make_pipeline\n",
    "from sklearn.preprocessing import PolynomialFeatures\n",
    "\n",
    "def plot_correlation(array1, array2, no):\n",
    "    # Estimate best line fit\n",
    "    x = np.array(array1)\n",
    "    y = np.array(array2)\n",
    "    A = np.vstack([x, np.ones(len(x))]).T\n",
    "    m, c = np.linalg.lstsq(A, y, rcond=None)[0]\n",
    "    y_pred = m * x + c\n",
    "    \n",
    "    array = [i for i in range(no - 1)]\n",
    "    \n",
    "    # TODO: Sanity check. Shouldn't the lines be straight?\n",
    "    DEGREES = 1\n",
    "\n",
    "    # Plot\n",
    "    fig, ax1 = plt.subplots()\n",
    "\n",
    "    color = 'tab:red'\n",
    "    ax1.set_xlabel('# Links away from the ship')\n",
    "    ax1.set_ylabel('Area of bounding box [px^2]', color=color)\n",
    "    ax1.scatter(array, array1, color=color)\n",
    "    ax1.tick_params(axis='y', labelcolor=color)\n",
    "    \n",
    "    model = make_pipeline(PolynomialFeatures(degree=DEGREES), LinearRegression())\n",
    "    model.fit(np.array(array).reshape(-1, 1), array1)\n",
    "    array_fit = np.linspace(0, number_of_boxes, 100)\n",
    "    array1_fit = model.predict(array_fit.reshape(-1, 1))\n",
    "    ax1.plot(array_fit, array1_fit, color=color, linestyle='--')\n",
    "\n",
    "\n",
    "    ax2 = ax1.twinx()\n",
    "\n",
    "    color = 'tab:blue'\n",
    "    ax2.set_ylabel('Distance from previous link [px]', color=color)\n",
    "    ax2.scatter(array, array2, color=color)\n",
    "    ax2.tick_params(axis='y', labelcolor=color)\n",
    "    \n",
    "    model = make_pipeline(PolynomialFeatures(degree=DEGREES), LinearRegression())\n",
    "    model.fit(np.array(array).reshape(-1, 1), array2)\n",
    "    array2_fit = model.predict(array_fit.reshape(-1, 1))\n",
    "    ax2.plot(array_fit, array2_fit, color=color, linestyle='--')\n",
    "\n",
    "    fig.tight_layout()\n",
    "    plt.show()\n",
    "\n",
    "plot_correlation(areas[:-1], box_distances, no=number_of_boxes)\n"
   ]
  },
  {
   "cell_type": "code",
   "execution_count": 95,
   "metadata": {},
   "outputs": [
    {
     "data": {
      "image/png": "[encoded data removed]",
      "text/plain": [
       "<Figure size 640x480 with 2 Axes>"
      ]
     },
     "metadata": {},
     "output_type": "display_data"
    }
   ],
   "source": [
    "%matplotlib inline\n",
    "import matplotlib.pyplot as plt\n",
    "import numpy as np\n",
    "from sklearn.linear_model import LinearRegression\n",
    "\n",
    "def plot_correlation(array1, array2, label_array1, label_array2):\n",
    "    # Estimate best line fit\n",
    "    x = np.array(array1)\n",
    "    y = np.array(array2)\n",
    "    A = np.vstack([x, np.ones(len(x))]).T\n",
    "    m, c = np.linalg.lstsq(A, y, rcond=None)[0]\n",
    "    y_pred = m * x + c\n",
    "\n",
    "    # Plot\n",
    "    plt.scatter(array1, array2, c=range(len(array1)), cmap=\"viridis\")\n",
    "    plt.plot(array1, y_pred, color=\"red\")\n",
    "    plt.xlabel(label_array1)\n",
    "    plt.ylabel(label_array2)\n",
    "    plt.title(f\"Correlation: {np.corrcoef(array1, array2)[0,1]:.2f}\")\n",
    "    plt.colorbar().set_label(\"Distance from ship\")\n",
    "    plt.show()\n",
    "\n",
    "plot_correlation(areas[1:], box_distances, label_array1=\"Area (Size) of a bounding box\", label_array2=\"Distance from previous bounding box\")"
   ]
  },
  {
   "cell_type": "code",
   "execution_count": null,
   "metadata": {},
   "outputs": [],
   "source": []
  }
 ],
 "metadata": {
  "kernelspec": {
   "display_name": "Python 3",
   "language": "python",
   "name": "python3"
  },
  "language_info": {
   "codemirror_mode": {
    "name": "ipython",
    "version": 3
   },
   "file_extension": ".py",
   "mimetype": "text/x-python",
   "name": "python",
   "nbconvert_exporter": "python",
   "pygments_lexer": "ipython3",
   "version": "3.10.9"
  },
  "orig_nbformat": 4,
  "vscode": {
   "interpreter": {
    "hash": "b0fa6594d8f4cbf19f97940f81e996739fb7646882a419484c72d19e05852a7e"
   }
  }
 },
 "nbformat": 4,
 "nbformat_minor": 2
}
